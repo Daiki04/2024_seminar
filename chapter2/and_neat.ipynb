{
 "cells": [
  {
   "cell_type": "code",
   "execution_count": 1,
   "metadata": {},
   "outputs": [],
   "source": [
    "from neat.config import Config\n",
    "from neat.genome import DefaultGenome\n",
    "from neat.reproduction import DefaultReproduction\n",
    "from neat.species import DefaultSpeciesSet\n",
    "from neat.stagnation import DefaultStagnation\n",
    "from neat.population import Population\n",
    "from neat.nn import FeedForwardNetwork\n",
    "import neat\n",
    "\n",
    "from configparser import ConfigParser\n",
    "import matplotlib.pyplot as plt\n",
    "import scienceplots\n",
    "\n",
    "plt.style.use(['science', 'grid', 'no-latex'])"
   ]
  },
  {
   "cell_type": "code",
   "execution_count": 2,
   "metadata": {},
   "outputs": [
    {
     "data": {
      "image/png": "[encoded data removed]",
      "text/plain": [
       "<Figure size 600x600 with 1 Axes>"
      ]
     },
     "metadata": {},
     "output_type": "display_data"
    }
   ],
   "source": [
    "# ANDの可視化\n",
    "import numpy as np\n",
    "x_zero = [(0, 0), (0, 1), (1, 0)]\n",
    "x_one = [(1, 1)]\n",
    "\n",
    "\n",
    "plt.figure(figsize=(6, 6))\n",
    "# 0のプロット\n",
    "plt.scatter([x[0] for x in x_zero], [x[1] for x in x_zero], c='blue', marker='o', label='0', s=100)\n",
    "# 1のプロット\n",
    "plt.scatter([x[0] for x in x_one], [x[1] for x in x_one], c='red', marker='o', label='1', s=100)\n",
    "plt.xlabel('Input 1')\n",
    "plt.ylabel('Input 2')\n",
    "plt.title('AND')\n",
    "plt.grid(True)\n",
    "# 色ごとに一つの凡例を表示\n",
    "plt.legend()\n",
    "plt.tight_layout()\n",
    "plt.show()"
   ]
  },
  {
   "cell_type": "code",
   "execution_count": 3,
   "metadata": {},
   "outputs": [],
   "source": [
    "inputs = [(0.0, 0.0), (0.0, 1.0), (1.0, 0.0), (1.0, 1.0)]\n",
    "outputs = [(0.0,), (0.0,), (0.0,), (1.0,)]\n",
    "\n",
    "def eval_genomes(genomes, config, generation):\n",
    "    \"\"\"ゲノムの評価\n",
    "\n",
    "    Args:\n",
    "        genomes : ゲノム集団 \n",
    "        config : 設定\n",
    "\n",
    "    Returns:\n",
    "        None\n",
    "\n",
    "    2乗誤差の和を評価関数として用いる\n",
    "    最大化のために最大値4.0から減算している\n",
    "    \"\"\"\n",
    "    for _, genome in genomes:\n",
    "        genome.fitness = 4.0\n",
    "        net = FeedForwardNetwork.create(genome, config) # ネットワークの作成\n",
    "        for xi, xo in zip(inputs, outputs):\n",
    "            output = net.activate(xi)\n",
    "            genome.fitness -= (output[0] - xo[0]) ** 2"
   ]
  },
  {
   "cell_type": "code",
   "execution_count": 4,
   "metadata": {},
   "outputs": [],
   "source": [
    "# 設定ファイルの読み込み\n",
    "cfg = Config(\n",
    "    DefaultGenome,          # 使用するゲノムのクラス（種類）\n",
    "    DefaultReproduction,    # 使用する繁殖のクラス（種類） \n",
    "    DefaultSpeciesSet,      # 使用する種のクラス（種類）\n",
    "    DefaultStagnation,      # 使用する停滞管理のクラス（種類）\n",
    "    './config/and.conf'     # 設定ファイルのパス\n",
    ")"
   ]
  },
  {
   "cell_type": "code",
   "execution_count": 7,
   "metadata": {},
   "outputs": [
    {
     "name": "stdout",
     "output_type": "stream",
     "text": [
      "Populationsize:  10000\n",
      "\n",
      " ****** Running generation 0 ****** \n",
      "\n",
      "Population's average fitness: 2.22899 stdev: 0.81761\n",
      "Best fitness: 3.99721 - size: (1, 2) - species 1 - id 2462\n",
      "\n",
      "Best individual in generation 0 meets fitness threshold - complexity: (1, 2)\n",
      "CPU times: user 466 ms, sys: 1.97 ms, total: 468 ms\n",
      "Wall time: 467 ms\n"
     ]
    }
   ],
   "source": [
    "%%time\n",
    "\n",
    "pop = Population(cfg) # 解集団\n",
    "\n",
    "print(\"Populationsize: \", len(pop.population)) # 解集団のサイズ\n",
    "\n",
    "pop.add_reporter(neat.StdOutReporter(True)) # 標準出力に報告\n",
    "stats = neat.StatisticsReporter() # 統計情報の報告\n",
    "pop.add_reporter(stats)\n",
    "pop.add_reporter(neat.Checkpointer(5)) # 5世代ごとにチェックポイントを作成\n",
    "\n",
    "best_genome = pop.run(eval_genomes, n=300) # 300世代進化"
   ]
  },
  {
   "cell_type": "code",
   "execution_count": 8,
   "metadata": {},
   "outputs": [
    {
     "name": "stdout",
     "output_type": "stream",
     "text": [
      "\n",
      "Best genome:\n",
      "Key: 2462\n",
      "Fitness: 3.9972133407248434\n",
      "Nodes:\n",
      "\t0 DefaultNodeGene(key=0, bias=-2.3658534548035237, response=1.0, activation=sigmoid, aggregation=sum)\n",
      "Connections:\n",
      "\tDefaultConnectionGene(key=(-2, 0), weight=1.3289039310869228, enabled=True)\n",
      "\tDefaultConnectionGene(key=(-1, 0), weight=1.6472668897003682, enabled=True)\n"
     ]
    }
   ],
   "source": [
    "print('\\nBest genome:\\n{!s}'.format(best_genome))"
   ]
  },
  {
   "cell_type": "code",
   "execution_count": null,
   "metadata": {},
   "outputs": [],
   "source": []
  }
 ],
 "metadata": {
  "kernelspec": {
   "display_name": "env_evogym",
   "language": "python",
   "name": "python3"
  },
  "language_info": {
   "codemirror_mode": {
    "name": "ipython",
    "version": 3
   },
   "file_extension": ".py",
   "mimetype": "text/x-python",
   "name": "python",
   "nbconvert_exporter": "python",
   "pygments_lexer": "ipython3",
   "version": "3.8.19"
  }
 },
 "nbformat": 4,
 "nbformat_minor": 2
}
